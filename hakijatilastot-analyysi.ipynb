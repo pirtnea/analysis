{
 "cells": [
  {
   "cell_type": "code",
   "execution_count": null,
   "metadata": {},
   "outputs": [],
   "source": [
    "import numpy as np\n",
    "import pandas as pd\n",
    "import seaborn as sns\n",
    "from scipy.stats import mannwhitneyu, kruskal"
   ]
  },
  {
   "cell_type": "code",
   "execution_count": null,
   "metadata": {},
   "outputs": [],
   "source": [
    "students = pd.read_csv('dummy_students.csv', dtype = {'student': str})\n",
    "courses = pd.read_csv('dummy_course_records.csv', dtype = {'student': str})"
   ]
  },
  {
   "cell_type": "code",
   "execution_count": null,
   "metadata": {
    "scrolled": true
   },
   "outputs": [],
   "source": [
    "students"
   ]
  },
  {
   "cell_type": "code",
   "execution_count": null,
   "metadata": {
    "scrolled": true
   },
   "outputs": [],
   "source": [
    "courses"
   ]
  },
  {
   "cell_type": "code",
   "execution_count": null,
   "metadata": {},
   "outputs": [],
   "source": [
    "# [RQ2.] How do students accepted through the DEFA project perform in their studies compared to students\n",
    "# accepted through other intake mechanisms?\n",
    "\n",
    "# RQ2.1. Credits per year\n",
    "# RQ2.1.1. Credits per year per subject (cs, math, other)\n",
    "# RQ2.2. GPA per year\n",
    "# RQ2.2.1. GPA per year per subject (cs, math, other)"
   ]
  },
  {
   "cell_type": "code",
   "execution_count": null,
   "metadata": {},
   "outputs": [],
   "source": [
    "# RQ2.1. Credits per year\n",
    "\n",
    "credit_acs = courses[['student', 'credits', 'study_year']].groupby(['student', 'study_year'], as_index = False).sum()"
   ]
  },
  {
   "cell_type": "code",
   "execution_count": null,
   "metadata": {},
   "outputs": [],
   "source": [
    "intake_credits = credit_acs.merge(students, on = 'student', how = 'left')"
   ]
  },
  {
   "cell_type": "code",
   "execution_count": null,
   "metadata": {},
   "outputs": [],
   "source": [
    "intake_credits[['intake', 'study_year', 'credits']].groupby(['intake', 'study_year'], as_index = False).mean()"
   ]
  },
  {
   "cell_type": "code",
   "execution_count": null,
   "metadata": {},
   "outputs": [],
   "source": [
    "# n = number of students per group (intake/study year combination)\n",
    "\n",
    "intake_credits_n = intake_credits[['intake', 'study_year', 'credits']].groupby(['intake', 'study_year'], as_index = False).count()\n",
    "intake_credits_n.rename(columns={'credits':'n'}, inplace = True)\n",
    "intake_credits_n"
   ]
  },
  {
   "cell_type": "code",
   "execution_count": null,
   "metadata": {},
   "outputs": [],
   "source": [
    "# RQ2.1.1. Credits per year per subject (cs, math, other)\n",
    "\n",
    "credit_acs_s = courses[['student', 'credits', 'study_year', 'subject']].groupby(['student', 'study_year', 'subject'], as_index = False).sum()"
   ]
  },
  {
   "cell_type": "code",
   "execution_count": null,
   "metadata": {},
   "outputs": [],
   "source": [
    "intake_credits_s = credit_acs_s.merge(students, on = 'student', how = 'left')"
   ]
  },
  {
   "cell_type": "code",
   "execution_count": null,
   "metadata": {},
   "outputs": [],
   "source": [
    "intake_credits_s[['intake', 'study_year', 'credits', 'subject']].groupby(['intake', 'study_year', 'subject'], as_index = False).mean()"
   ]
  },
  {
   "cell_type": "code",
   "execution_count": null,
   "metadata": {},
   "outputs": [],
   "source": [
    "# n = number of students per group (intake/study year/subject combination)\n",
    "\n",
    "intake_credits_s_n = intake_credits_s[['intake', 'study_year', 'credits', 'subject']].groupby(['intake', 'study_year', 'subject'], as_index = False).count()\n",
    "intake_credits_s_n.rename(columns = {'credits' : 'n'}, inplace = True)\n",
    "intake_credits_s_n"
   ]
  },
  {
   "cell_type": "code",
   "execution_count": null,
   "metadata": {},
   "outputs": [],
   "source": [
    "# RQ2.2. GPA per year\n",
    "\n",
    "gpas = courses[['student', 'grade', 'study_year']]\n",
    "gpas['grade'] = pd.to_numeric(gpas['grade'], errors = 'coerce')\n",
    "gpas = gpas.groupby(['student', 'study_year'], as_index = False).mean()"
   ]
  },
  {
   "cell_type": "code",
   "execution_count": null,
   "metadata": {},
   "outputs": [],
   "source": [
    "intake_gpas = gpas.merge(students, on = 'student', how = 'left')"
   ]
  },
  {
   "cell_type": "code",
   "execution_count": null,
   "metadata": {},
   "outputs": [],
   "source": [
    "intake_gpas[['intake', 'study_year', 'grade']].groupby(['intake', 'study_year'], as_index = False).mean()"
   ]
  },
  {
   "cell_type": "code",
   "execution_count": null,
   "metadata": {},
   "outputs": [],
   "source": [
    "# n = number of students per group (intake/study year combination)\n",
    "\n",
    "intake_gpas_n = intake_gpas[['intake', 'study_year', 'grade']].groupby(['intake', 'study_year'], as_index = False).count()\n",
    "intake_gpas_n.rename(columns = {'grade' : 'n'}, inplace = True)\n",
    "intake_gpas_n"
   ]
  },
  {
   "cell_type": "code",
   "execution_count": null,
   "metadata": {},
   "outputs": [],
   "source": [
    "# RQ2.2.1. GPA per year per subject (cs, math, other)\n",
    "\n",
    "gpas_s = courses[['student', 'grade', 'study_year', 'subject']]\n",
    "gpas_s['grade'] = pd.to_numeric(gpas_s['grade'], errors = 'coerce')\n",
    "gpas_s = gpas_s.groupby(['student', 'study_year', 'subject'], as_index = False).mean()"
   ]
  },
  {
   "cell_type": "code",
   "execution_count": null,
   "metadata": {},
   "outputs": [],
   "source": [
    "intake_gpas_s = gpas_s.merge(students, on = 'student', how = 'left')"
   ]
  },
  {
   "cell_type": "code",
   "execution_count": null,
   "metadata": {},
   "outputs": [],
   "source": [
    "intake_gpas_s[['intake', 'study_year', 'grade', 'subject']].groupby(['intake', 'study_year', 'subject'], as_index = False).mean()"
   ]
  },
  {
   "cell_type": "code",
   "execution_count": null,
   "metadata": {},
   "outputs": [],
   "source": [
    "# n = number of students per group (intake/study year/subject combination)\n",
    "\n",
    "intake_gpas_s_n = intake_gpas_s[['intake', 'study_year', 'grade', 'subject']].groupby(['intake', 'study_year', 'subject'], as_index = False).count()\n",
    "intake_gpas_s_n.rename(columns = {'grade' : 'n'}, inplace = True)\n",
    "intake_gpas_s_n"
   ]
  },
  {
   "cell_type": "code",
   "execution_count": null,
   "metadata": {},
   "outputs": [],
   "source": [
    "# [RQ3.] Do the demographics of students accepted through the Open Doors differ from the general student population?\n",
    "\n",
    "# RQ3.1. Average age by intake\n",
    "# RQ3.2. Gender distribution by intake\n",
    "# RQ3.3. Gender by age by intake?"
   ]
  },
  {
   "cell_type": "code",
   "execution_count": null,
   "metadata": {},
   "outputs": [],
   "source": [
    "# RQ3.1. Average age by intake\n",
    "\n",
    "students[['intake', 'age_at_intake']].groupby('intake', as_index = False).mean()"
   ]
  },
  {
   "cell_type": "code",
   "execution_count": null,
   "metadata": {},
   "outputs": [],
   "source": [
    "# RQ3.2. Gender distribution by intake\n",
    "\n",
    "students_s = students.replace({'Mies': 0, 'Nainen': 1})"
   ]
  },
  {
   "cell_type": "code",
   "execution_count": null,
   "metadata": {},
   "outputs": [],
   "source": [
    "students_g = students_s[['intake', 'gender']].groupby('intake', as_index = False).sum()\n",
    "students_g.columns = ['intake', 'women']"
   ]
  },
  {
   "cell_type": "code",
   "execution_count": null,
   "metadata": {},
   "outputs": [],
   "source": [
    "students_c = students_s[['intake', 'gender']].groupby('intake', as_index = False).count()\n",
    "students_c.columns = ['intake', 'count']"
   ]
  },
  {
   "cell_type": "code",
   "execution_count": null,
   "metadata": {},
   "outputs": [],
   "source": [
    "students_genders = students_g.merge(students_c, on = 'intake')"
   ]
  },
  {
   "cell_type": "code",
   "execution_count": null,
   "metadata": {},
   "outputs": [],
   "source": [
    "students_genders['men'] = students_genders['count'] - students_genders['women']\n",
    "column_names = ['intake', 'women', 'men', 'count']\n",
    "\n",
    "students_genders = students_genders.reindex(columns=column_names)\n",
    "students_genders"
   ]
  },
  {
   "cell_type": "code",
   "execution_count": null,
   "metadata": {
    "scrolled": true
   },
   "outputs": [],
   "source": [
    "# RQ3.3. Gender by age by intake\n",
    "\n",
    "students[['intake', 'age_at_intake', 'gender']].groupby(['intake', 'gender'], as_index = False).mean()"
   ]
  },
  {
   "cell_type": "code",
   "execution_count": null,
   "metadata": {
    "scrolled": true
   },
   "outputs": [],
   "source": [
    "age_by_intake = students[['intake', 'age_at_intake']]\n",
    "\n",
    "# varmista hakuväylien järjestys kuvaajassa, ja siisti sen jälkeen kuvaajan selitys ottamalla kommentointi pois solun viimeisestä rivistä\n",
    "# labels-listan järjestystä saattaa joutua muuttamaan, jotta uudet labelit osuvat oikeisiin sisäänpääsyväylädatoihin\n",
    "g = sns.kdeplot(data = age_by_intake, x = 'age_at_intake', hue = 'intake', multiple = 'fill', bw_adjust = 0.5)\n",
    "g.set(xlim = (age_by_intake['age_at_intake'].min(), age_by_intake['age_at_intake'].max()), xlabel = 'Age at intake', ylabel = 'Distribution of ages')\n",
    "# g.legend(title = 'Intake', labels = ['DEFA accept', 'Open uni.', 'DEFA tried', 'Main'])"
   ]
  },
  {
   "cell_type": "code",
   "execution_count": null,
   "metadata": {},
   "outputs": [],
   "source": [
    "# Example Kruskal-Wallis test\n",
    "# Credits between intakes, first year\n",
    "\n",
    "comparison_df = intake_credits[['intake', 'study_year', 'credits']]\n",
    "\n",
    "# Aja kaikille muuttujille, joita haluat tutkia omista sisäänpääsyväylistä\n",
    "# Alla ajettu ensimmäisen vuoden opintopisteille -> jos haluaa katsoa esim. toisen vuoden nopat, pitää ajaa erikseen study_year == 2.0 jne.\n",
    "# Samat myös keskiarvoille\n",
    "kruskal(comparison_df[(comparison_df['intake'] == 'defa_accept') & (comparison_df['study_year'] == 1.0)]['credits'],\n",
    "        comparison_df[(comparison_df['intake'] == 'main') & (comparison_df['study_year'] == 1.0)]['credits'],\n",
    "        comparison_df[(comparison_df['intake'] == 'ay') & (comparison_df['study_year'] == 1.0)]['credits'])"
   ]
  },
  {
   "cell_type": "code",
   "execution_count": null,
   "metadata": {},
   "outputs": [],
   "source": [
    "# Example Mann-Whitney U test\n",
    "# Credits between DEFA and main, first year\n",
    "\n",
    "print('Credits')\n",
    "print('DEFA:', np.mean(comparison_df[(comparison_df['intake'] == 'defa_accept') & (comparison_df['study_year'] == 1.0)]['credits']))\n",
    "print('Main:', np.mean(comparison_df[(comparison_df['intake'] == 'main') & (comparison_df['study_year'] == 1.0)]['credits']))\n",
    "mannwhitneyu(comparison_df[(comparison_df['intake'] == 'defa_accept') & (comparison_df['study_year'] == 1.0)]['credits'], comparison_df[(comparison_df['intake'] == 'main') & (comparison_df['study_year'] == 1.0)]['credits'])"
   ]
  }
 ],
 "metadata": {
  "kernelspec": {
   "display_name": "Python 3",
   "language": "python",
   "name": "python3"
  },
  "language_info": {
   "codemirror_mode": {
    "name": "ipython",
    "version": 3
   },
   "file_extension": ".py",
   "mimetype": "text/x-python",
   "name": "python",
   "nbconvert_exporter": "python",
   "pygments_lexer": "ipython3",
   "version": "3.8.5"
  }
 },
 "nbformat": 4,
 "nbformat_minor": 4
}
